{
 "cells": [
  {
   "cell_type": "markdown",
   "metadata": {},
   "source": [
    "# Basic func"
   ]
  },
  {
   "cell_type": "code",
   "execution_count": 2,
   "metadata": {
    "collapsed": true
   },
   "outputs": [],
   "source": [
    "import tensorflow as tf\n",
    "import numpy as np"
   ]
  },
  {
   "cell_type": "code",
   "execution_count": 5,
   "metadata": {
    "collapsed": false
   },
   "outputs": [
    {
     "name": "stdout",
     "output_type": "stream",
     "text": [
      "[3]\n",
      "3\n"
     ]
    },
    {
     "data": {
      "text/plain": [
       "False"
      ]
     },
     "execution_count": 5,
     "metadata": {},
     "output_type": "execute_result"
    }
   ],
   "source": [
    "node1 = tf.constant(3)\n",
    "sess = tf.Session()\n",
    "print (sess.run([node1]))\n",
    "print (sess.run(node1))==3"
   ]
  },
  {
   "cell_type": "code",
   "execution_count": 7,
   "metadata": {
    "collapsed": false
   },
   "outputs": [
    {
     "name": "stdout",
     "output_type": "stream",
     "text": [
      "node3: 5\n"
     ]
    }
   ],
   "source": [
    "node2 = tf.constant(2)\n",
    "node3 = tf.add(node1,node2)\n",
    "print(\"node3:\",sess.run(node3))"
   ]
  },
  {
   "cell_type": "code",
   "execution_count": 14,
   "metadata": {
    "collapsed": false
   },
   "outputs": [],
   "source": [
    "a = tf.placeholder(tf.float32)\n",
    "b= tf.placeholder(tf.float32)\n",
    "adder_node = a + b"
   ]
  },
  {
   "cell_type": "code",
   "execution_count": 15,
   "metadata": {
    "collapsed": false
   },
   "outputs": [
    {
     "name": "stdout",
     "output_type": "stream",
     "text": [
      "[ 3.  7.]\n"
     ]
    }
   ],
   "source": [
    "print(sess.run(adder_node,{a:[1,3],b:[2,4]}))"
   ]
  },
  {
   "cell_type": "code",
   "execution_count": 16,
   "metadata": {
    "collapsed": false
   },
   "outputs": [
    {
     "name": "stdout",
     "output_type": "stream",
     "text": [
      "[  9.  21.]\n"
     ]
    }
   ],
   "source": [
    "add_triple = adder_node*3\n",
    "print(sess.run(add_triple,{a:[1,3],b:[2,4]}))"
   ]
  },
  {
   "cell_type": "code",
   "execution_count": 17,
   "metadata": {
    "collapsed": true
   },
   "outputs": [],
   "source": [
    "W = tf.Variable([.3],tf.float32)\n",
    "b = tf.Variable([-.3],tf.float32)\n",
    "x = tf.placeholder(tf.float32)\n",
    "linear_model = W*x + b"
   ]
  },
  {
   "cell_type": "code",
   "execution_count": 18,
   "metadata": {
    "collapsed": true
   },
   "outputs": [],
   "source": [
    "init = tf.global_variables_initializer()\n",
    "sess.run(init)"
   ]
  },
  {
   "cell_type": "code",
   "execution_count": 19,
   "metadata": {
    "collapsed": false
   },
   "outputs": [
    {
     "name": "stdout",
     "output_type": "stream",
     "text": [
      "[ 0.          0.30000001  0.60000002  0.90000004]\n"
     ]
    }
   ],
   "source": [
    "print (sess.run(linear_model,{x:[1,2,3,4]}))"
   ]
  },
  {
   "cell_type": "code",
   "execution_count": 22,
   "metadata": {
    "collapsed": false,
    "scrolled": true
   },
   "outputs": [
    {
     "name": "stdout",
     "output_type": "stream",
     "text": [
      "24.66\n"
     ]
    }
   ],
   "source": [
    "y = tf.placeholder(tf.float32)\n",
    "squared_deltas = tf.square(linear_model - y)\n",
    "loss = tf.reduce_sum(squared_deltas)\n",
    "print(sess.run(loss,{x:[1,2,3,4],y:[-1,-1,-2,-3]}))"
   ]
  },
  {
   "cell_type": "markdown",
   "metadata": {},
   "source": [
    "### Assign 赋值操作"
   ]
  },
  {
   "cell_type": "code",
   "execution_count": 30,
   "metadata": {
    "collapsed": false
   },
   "outputs": [
    {
     "name": "stdout",
     "output_type": "stream",
     "text": [
      "[-1.20000005]\n",
      "1.8\n"
     ]
    }
   ],
   "source": [
    "fixW = tf.assign(W,[-1.20])\n",
    "fixb = tf.assign(b,[1.])\n",
    "print(sess.run(fixW))\n",
    "#sess.run([fixW,fixb])\n",
    "print(sess.run(loss,{x:[1,2,3,4],y:[-1,-1,-2,-3]}))\n"
   ]
  },
  {
   "cell_type": "markdown",
   "metadata": {},
   "source": [
    "## tf.train API"
   ]
  },
  {
   "cell_type": "code",
   "execution_count": 31,
   "metadata": {
    "collapsed": true
   },
   "outputs": [],
   "source": [
    "optimizer = tf.train.GradientDescentOptimizer(0.01)\n",
    "train = optimizer.minimize(loss)"
   ]
  },
  {
   "cell_type": "code",
   "execution_count": 34,
   "metadata": {
    "collapsed": false
   },
   "outputs": [
    {
     "name": "stdout",
     "output_type": "stream",
     "text": [
      "[-0.21999997] [-0.456]\n",
      "[-0.84270465] [ 0.53753263]\n",
      "[-0.95284992] [ 0.86137295]\n",
      "[-0.98586655] [ 0.95844597]\n",
      "[-0.99576342] [ 0.98754394]\n",
      "[-0.99873012] [ 0.99626648]\n",
      "[-0.99961936] [ 0.99888098]\n",
      "[-0.99988592] [ 0.9996646]\n",
      "[-0.99996579] [ 0.99989945]\n",
      "[-0.99998969] [ 0.99996972]\n",
      "[array([-0.9999969], dtype=float32), array([ 0.99999082], dtype=float32)]\n"
     ]
    }
   ],
   "source": [
    "sess.run(init)\n",
    "\n",
    "#squared_deltas = tf.square(linear_model - y)\n",
    "#loss = tf.reduce_sum(squared_deltas)\n",
    "\n",
    "for i in range(1000):\n",
    "    sess.run(train,{x:[1,2,3,4], y:[0,-1,-2,-3]})\n",
    "    if i%100==0:\n",
    "        print(sess.run(W),sess.run(b))\n",
    "print(sess.run([W,b]))"
   ]
  },
  {
   "cell_type": "markdown",
   "metadata": {},
   "source": [
    "# A complete program"
   ]
  },
  {
   "cell_type": "code",
   "execution_count": 35,
   "metadata": {
    "collapsed": false
   },
   "outputs": [
    {
     "name": "stdout",
     "output_type": "stream",
     "text": [
      "W: [ 0.99999946] b: [-0.99999779] loss: 3.52429e-12\n"
     ]
    }
   ],
   "source": [
    "#import tensorflow\n",
    "#import numpy\n",
    "\n",
    "#init wb\n",
    "W = tf.Variable([1.3],tf.float32)\n",
    "b = tf.Variable([-.3],tf.float32)\n",
    "#input and output\n",
    "x = tf.placeholder(tf.float32)\n",
    "linear_model = W * x + b\n",
    "y = tf.placeholder(tf.float32)\n",
    "#loss\n",
    "loss = tf.reduce_sum(tf.square(linear_model - y))\n",
    "#optimizer\n",
    "optimizer = tf.train.GradientDescentOptimizer(0.01)\n",
    "train  = optimizer.minimize(loss)\n",
    "x_train = [1,3,4,5]\n",
    "y_train = [0,2,3,4]\n",
    "\n",
    "init = tf.global_variables_initializer()\n",
    "sess = tf.Session()\n",
    "sess.run(init)\n",
    "for i in range(1000):\n",
    "    sess.run(train,{x:x_train,y:y_train})\n",
    "    \n",
    "curr_W, curr_b, curr_loss  = sess.run([W, b, loss], {x:x_train, y:y_train})\n",
    "print(\"W: %s b: %s loss: %s\"%(curr_W, curr_b, curr_loss))\n",
    "    "
   ]
  },
  {
   "cell_type": "code",
   "execution_count": 37,
   "metadata": {
    "collapsed": false
   },
   "outputs": [
    {
     "name": "stdout",
     "output_type": "stream",
     "text": [
      "WARNING:tensorflow:Using temporary folder as model directory: C:\\Users\\sky\\AppData\\Local\\Temp\\tmppqe1mh5d\n",
      "INFO:tensorflow:Using default config.\n",
      "INFO:tensorflow:Using config: {'_num_ps_replicas': 0, '_tf_random_seed': None, '_save_summary_steps': 100, '_cluster_spec': <tensorflow.python.training.server_lib.ClusterSpec object at 0x000000000A368748>, '_save_checkpoints_steps': None, '_keep_checkpoint_max': 5, '_task_id': 0, '_task_type': None, '_keep_checkpoint_every_n_hours': 10000, '_is_chief': True, '_environment': 'local', '_save_checkpoints_secs': 600, '_tf_config': gpu_options {\n",
      "  per_process_gpu_memory_fraction: 1\n",
      "}\n",
      ", '_evaluation_master': '', '_master': ''}\n",
      "WARNING:tensorflow:Rank of input Tensor (1) should be the same as output_rank (2) for column. Will attempt to expand dims. It is highly recommended that you resize your input, as this behavior may change.\n",
      "WARNING:tensorflow:From C:\\Anaconda3\\envs\\tensorflow\\lib\\site-packages\\tensorflow\\contrib\\learn\\python\\learn\\estimators\\head.py:1362: scalar_summary (from tensorflow.python.ops.logging_ops) is deprecated and will be removed after 2016-11-30.\n",
      "Instructions for updating:\n",
      "Please switch to tf.summary.scalar. Note that tf.summary.scalar uses the node name instead of the tag. This means that TensorFlow will automatically de-duplicate summary names based on the scope they are created in. Also, passing a tensor or list of tags to a scalar summary op is no longer supported.\n",
      "INFO:tensorflow:Create CheckpointSaverHook.\n",
      "INFO:tensorflow:Saving checkpoints for 1 into C:\\Users\\sky\\AppData\\Local\\Temp\\tmppqe1mh5d\\model.ckpt.\n",
      "INFO:tensorflow:step = 1, loss = 1.0\n",
      "INFO:tensorflow:global_step/sec: 1515.15\n",
      "INFO:tensorflow:step = 101, loss = 0.0690737\n",
      "INFO:tensorflow:global_step/sec: 1470.59\n",
      "INFO:tensorflow:step = 201, loss = 0.0104886\n",
      "INFO:tensorflow:global_step/sec: 1562.5\n",
      "INFO:tensorflow:step = 301, loss = 0.00259585\n",
      "INFO:tensorflow:global_step/sec: 1449.28\n",
      "INFO:tensorflow:step = 401, loss = 0.000218358\n",
      "INFO:tensorflow:global_step/sec: 1351.35\n",
      "INFO:tensorflow:step = 501, loss = 3.44368e-05\n",
      "INFO:tensorflow:global_step/sec: 1538.47\n",
      "INFO:tensorflow:step = 601, loss = 1.58534e-05\n",
      "INFO:tensorflow:global_step/sec: 1538.46\n",
      "INFO:tensorflow:step = 701, loss = 2.07768e-06\n",
      "INFO:tensorflow:global_step/sec: 1724.14\n",
      "INFO:tensorflow:step = 801, loss = 7.9377e-07\n",
      "INFO:tensorflow:global_step/sec: 2222.22\n",
      "INFO:tensorflow:step = 901, loss = 1.41037e-07\n",
      "INFO:tensorflow:Saving checkpoints for 1000 into C:\\Users\\sky\\AppData\\Local\\Temp\\tmppqe1mh5d\\model.ckpt.\n",
      "INFO:tensorflow:Loss for final step: 2.44931e-08.\n",
      "WARNING:tensorflow:Rank of input Tensor (1) should be the same as output_rank (2) for column. Will attempt to expand dims. It is highly recommended that you resize your input, as this behavior may change.\n",
      "WARNING:tensorflow:From C:\\Anaconda3\\envs\\tensorflow\\lib\\site-packages\\tensorflow\\contrib\\learn\\python\\learn\\estimators\\head.py:1362: scalar_summary (from tensorflow.python.ops.logging_ops) is deprecated and will be removed after 2016-11-30.\n",
      "Instructions for updating:\n",
      "Please switch to tf.summary.scalar. Note that tf.summary.scalar uses the node name instead of the tag. This means that TensorFlow will automatically de-duplicate summary names based on the scope they are created in. Also, passing a tensor or list of tags to a scalar summary op is no longer supported.\n",
      "INFO:tensorflow:Starting evaluation at 2017-03-18-08:59:05\n",
      "INFO:tensorflow:Finished evaluation at 2017-03-18-08:59:06\n",
      "INFO:tensorflow:Saving dict for global step 1000: global_step = 1000, loss = 2.40493e-08\n",
      "WARNING:tensorflow:Skipping summary for global_step, must be a float or np.float32.\n"
     ]
    },
    {
     "data": {
      "text/plain": [
       "{'global_step': 1000, 'loss': 2.4049285e-08}"
      ]
     },
     "execution_count": 37,
     "metadata": {},
     "output_type": "execute_result"
    }
   ],
   "source": [
    "features = [tf.contrib.layers.real_valued_column(\"x\",dimension = 1)]\n",
    "estimator = tf.contrib.learn.LinearRegressor(feature_columns = features)\n",
    "x = np.array([1., 2., 3., 4.])\n",
    "y = np.array([0., -1., -2., -3.])\n",
    "input_fn  =tf.contrib.learn.io.numpy_input_fn({\"x\":x},y,batch_size=4,num_epochs=1000)\n",
    "estimator.fit(input_fn=input_fn,steps = 1000)\n",
    "estimator.evaluate(input_fn=input_fn)"
   ]
  },
  {
   "cell_type": "code",
   "execution_count": 38,
   "metadata": {
    "collapsed": false
   },
   "outputs": [
    {
     "name": "stdout",
     "output_type": "stream",
     "text": [
      "WARNING:tensorflow:Using temporary folder as model directory: C:\\Users\\sky\\AppData\\Local\\Temp\\tmpbshucjmo\n",
      "INFO:tensorflow:Using default config.\n",
      "INFO:tensorflow:Using config: {'_num_ps_replicas': 0, '_tf_random_seed': None, '_save_summary_steps': 100, '_cluster_spec': <tensorflow.python.training.server_lib.ClusterSpec object at 0x000000000BAE55C0>, '_save_checkpoints_steps': None, '_keep_checkpoint_max': 5, '_task_id': 0, '_task_type': None, '_keep_checkpoint_every_n_hours': 10000, '_is_chief': True, '_environment': 'local', '_save_checkpoints_secs': 600, '_tf_config': gpu_options {\n",
      "  per_process_gpu_memory_fraction: 1\n",
      "}\n",
      ", '_evaluation_master': '', '_master': ''}\n",
      "INFO:tensorflow:Create CheckpointSaverHook.\n",
      "INFO:tensorflow:Saving checkpoints for 1 into C:\\Users\\sky\\AppData\\Local\\Temp\\tmpbshucjmo\\model.ckpt.\n",
      "INFO:tensorflow:step = 1, loss = 17.2307481665\n",
      "INFO:tensorflow:global_step/sec: 1562.5\n",
      "INFO:tensorflow:step = 101, loss = 0.0292244105427\n",
      "INFO:tensorflow:global_step/sec: 1562.5\n",
      "INFO:tensorflow:step = 201, loss = 0.00181773688304\n",
      "INFO:tensorflow:global_step/sec: 1694.91\n",
      "INFO:tensorflow:step = 301, loss = 0.000177602831733\n",
      "INFO:tensorflow:global_step/sec: 1694.91\n",
      "INFO:tensorflow:step = 401, loss = 9.16834192816e-05\n",
      "INFO:tensorflow:global_step/sec: 1612.91\n",
      "INFO:tensorflow:step = 501, loss = 5.86072449001e-06\n",
      "INFO:tensorflow:global_step/sec: 1694.91\n",
      "INFO:tensorflow:step = 601, loss = 7.04328973469e-07\n",
      "INFO:tensorflow:global_step/sec: 1818.18\n",
      "INFO:tensorflow:step = 701, loss = 4.48610675368e-08\n",
      "INFO:tensorflow:global_step/sec: 1923.08\n",
      "INFO:tensorflow:step = 801, loss = 3.93736521649e-09\n",
      "INFO:tensorflow:global_step/sec: 2173.91\n",
      "INFO:tensorflow:step = 901, loss = 3.06886081858e-10\n",
      "INFO:tensorflow:Saving checkpoints for 1000 into C:\\Users\\sky\\AppData\\Local\\Temp\\tmpbshucjmo\\model.ckpt.\n",
      "INFO:tensorflow:Loss for final step: 1.38627113361e-11.\n",
      "INFO:tensorflow:Starting evaluation at 2017-03-18-09:00:12\n",
      "INFO:tensorflow:Evaluation [1/10]\n",
      "INFO:tensorflow:Evaluation [2/10]\n",
      "INFO:tensorflow:Evaluation [3/10]\n",
      "INFO:tensorflow:Evaluation [4/10]\n",
      "INFO:tensorflow:Evaluation [5/10]\n",
      "INFO:tensorflow:Evaluation [6/10]\n",
      "INFO:tensorflow:Evaluation [7/10]\n",
      "INFO:tensorflow:Evaluation [8/10]\n",
      "INFO:tensorflow:Evaluation [9/10]\n",
      "INFO:tensorflow:Evaluation [10/10]\n",
      "INFO:tensorflow:Finished evaluation at 2017-03-18-09:00:13\n",
      "INFO:tensorflow:Saving dict for global step 1000: global_step = 1000, loss = 2.53063e-11\n",
      "WARNING:tensorflow:Skipping summary for global_step, must be a float or np.float32.\n",
      "{'loss': 2.5306267e-11, 'global_step': 1000}\n"
     ]
    }
   ],
   "source": [
    "import numpy as np\n",
    "import tensorflow as tf\n",
    "# Declare list of features, we only have one real-valued feature\n",
    "def model(features, labels, mode):\n",
    "  # Build a linear model and predict values\n",
    "  W = tf.get_variable(\"W\", [1], dtype=tf.float64)\n",
    "  b = tf.get_variable(\"b\", [1], dtype=tf.float64)\n",
    "  y = W*features['x'] + b\n",
    "  # Loss sub-graph\n",
    "  loss = tf.reduce_sum(tf.square(y - labels))\n",
    "  # Training sub-graph\n",
    "  global_step = tf.train.get_global_step()\n",
    "  optimizer = tf.train.GradientDescentOptimizer(0.01)\n",
    "  train = tf.group(optimizer.minimize(loss),\n",
    "                   tf.assign_add(global_step, 1))\n",
    "  # ModelFnOps connects subgraphs we built to the\n",
    "  # appropriate functionality.\n",
    "  return tf.contrib.learn.ModelFnOps(\n",
    "      mode=mode, predictions=y,\n",
    "      loss=loss,\n",
    "      train_op=train)\n",
    "\n",
    "estimator = tf.contrib.learn.Estimator(model_fn=model)\n",
    "# define our data set\n",
    "x = np.array([1., 2., 3., 4.])\n",
    "y = np.array([0., -1., -2., -3.])\n",
    "input_fn = tf.contrib.learn.io.numpy_input_fn({\"x\": x}, y, 4, num_epochs=1000)\n",
    "\n",
    "# train\n",
    "estimator.fit(input_fn=input_fn, steps=1000)\n",
    "# evaluate our model\n",
    "print(estimator.evaluate(input_fn=input_fn, steps=10))\n"
   ]
  },
  {
   "cell_type": "code",
   "execution_count": null,
   "metadata": {
    "collapsed": true
   },
   "outputs": [],
   "source": []
  }
 ],
 "metadata": {
  "kernelspec": {
   "display_name": "Python 3",
   "language": "python",
   "name": "python3"
  },
  "language_info": {
   "codemirror_mode": {
    "name": "ipython",
    "version": 3
   },
   "file_extension": ".py",
   "mimetype": "text/x-python",
   "name": "python",
   "nbconvert_exporter": "python",
   "pygments_lexer": "ipython3",
   "version": "3.5.3"
  }
 },
 "nbformat": 4,
 "nbformat_minor": 2
}
